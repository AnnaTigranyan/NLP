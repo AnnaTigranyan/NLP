{
 "cells": [
  {
   "cell_type": "markdown",
   "id": "967b4d4d",
   "metadata": {},
   "source": [
    "# Final Project\n",
    "#### Anna Tigranyan"
   ]
  },
  {
   "cell_type": "markdown",
   "id": "e3b10a0a",
   "metadata": {},
   "source": [
    "# Testing the model in order to get categorys of the text"
   ]
  },
  {
   "cell_type": "markdown",
   "id": "b1bb0449",
   "metadata": {},
   "source": [
    "#### Importing libreries"
   ]
  },
  {
   "cell_type": "code",
   "execution_count": 1,
   "id": "e377db1f",
   "metadata": {},
   "outputs": [
    {
     "name": "stderr",
     "output_type": "stream",
     "text": [
      "[nltk_data] Downloading package stopwords to\n",
      "[nltk_data]     C:\\Users\\Toshiba\\AppData\\Roaming\\nltk_data...\n",
      "[nltk_data]   Package stopwords is already up-to-date!\n"
     ]
    }
   ],
   "source": [
    "import numpy as np\n",
    "import pandas as pd\n",
    "import pickle\n",
    "import json\n",
    "\n",
    "import seaborn as sns\n",
    "import re\n",
    "\n",
    "import nltk\n",
    "\n",
    "nltk.download('stopwords')\n",
    "from nltk.corpus import stopwords\n",
    "\n",
    "from nltk.stem.porter import PorterStemmer\n",
    "\n",
    "from sklearn.feature_extraction.text import CountVectorizer\n",
    "from sklearn.linear_model import LogisticRegression\n",
    "from sklearn.ensemble import RandomForestClassifier\n",
    "from sklearn.naive_bayes import MultinomialNB\n",
    "from sklearn.svm import SVC\n",
    "\n",
    "import matplotlib.pyplot as plt\n",
    "from sklearn.metrics import roc_curve\n",
    "\n",
    "from sklearn.metrics import classification_report,confusion_matrix,accuracy_score\n",
    "\n",
    "import warnings\n",
    "warnings.filterwarnings('ignore')"
   ]
  },
  {
   "cell_type": "code",
   "execution_count": 2,
   "id": "f7005a62",
   "metadata": {},
   "outputs": [],
   "source": [
    "# importing train and test datas\n",
    "\n",
    "with open('train.jsonl', 'rb') as f:\n",
    "   tr_df = f.readlines()\n",
    "\n",
    "with open('test.jsonl', 'rb') as f:\n",
    "   ts_df = f.readlines()"
   ]
  },
  {
   "cell_type": "code",
   "execution_count": 3,
   "id": "c064ff90",
   "metadata": {},
   "outputs": [],
   "source": [
    "def get_TextAndLabel(data):\n",
    "    \"\"\"\n",
    "    Getting text and  true label of the meme:\n",
    "    0:not-hateful 1:hateful\n",
    "    \n",
    "    Args:\n",
    "        data: List of bytes\n",
    "    \n",
    "    Returns:\n",
    "        data frame contains text and categorys of meme\n",
    "    \n",
    "    \"\"\"\n",
    "    df = pd.DataFrame()\n",
    "    \n",
    "    categorys = []\n",
    "    string = []\n",
    "    \n",
    "    for i in data:\n",
    "        i = i.decode('ASCII')# decoding bytes to string\n",
    "        i = json.loads(i)# converting string to dictionory in order to get label and text from the string\n",
    "        label = i['label'] # getting the label\n",
    "        text = i['text'] # getting the text\n",
    "        \n",
    "        categorys.append(label) # adding the label to our categoris list\n",
    "        string.append(text) # adding the text to our texts list\n",
    "        \n",
    "    # as we have lists of the texts and categoris let's join them to our data frame df in order to have dataframe of the \n",
    "    # texts and labels\n",
    "    \n",
    "    df['text'] = string\n",
    "    df['category'] = categorys\n",
    "    \n",
    "    return df "
   ]
  },
  {
   "cell_type": "code",
   "execution_count": 4,
   "id": "4541757c",
   "metadata": {},
   "outputs": [],
   "source": [
    "def get_Text(data):\n",
    "    \"\"\"\n",
    "    Getting text of the meme\n",
    "    \n",
    "    Args:\n",
    "        data: List of bytes\n",
    "    \n",
    "    Returns:\n",
    "        data frame contains texts of memes\n",
    "    \n",
    "    \"\"\"\n",
    "    df = pd.DataFrame()\n",
    "    \n",
    "    string = []\n",
    "    \n",
    "    for i in data:\n",
    "        i = i.decode('ASCII')# decoding bytes to string\n",
    "        i = json.loads(i)# converting string to dictionory in order to get text from the string\n",
    "        text = i['text'] # getting the text\n",
    "        \n",
    "        string.append(text) # adding the text to our texts list\n",
    "        \n",
    "    # as we have lists of the texts let's join them to our data frame df in order to have dataframe of the texts\n",
    "    \n",
    "    df['text'] = string\n",
    "    \n",
    "    return df "
   ]
  },
  {
   "cell_type": "markdown",
   "id": "c13dc4da",
   "metadata": {},
   "source": [
    "Now let's get data frame df containing text and category of the meme using ambove written functions:"
   ]
  },
  {
   "cell_type": "code",
   "execution_count": 5,
   "id": "e5cf7831",
   "metadata": {},
   "outputs": [],
   "source": [
    "df_tr = get_TextAndLabel(tr_df)\n",
    "df_ts = get_Text(ts_df)"
   ]
  },
  {
   "cell_type": "code",
   "execution_count": 6,
   "id": "626ede26",
   "metadata": {},
   "outputs": [],
   "source": [
    "# converting dtype of category calumn to categorical\n",
    "df_tr['category'] = df_tr['category'].astype('category')  "
   ]
  },
  {
   "cell_type": "markdown",
   "id": "a509f157",
   "metadata": {},
   "source": [
    "We need to join our test and train datasets in order to do changes "
   ]
  },
  {
   "cell_type": "code",
   "execution_count": 7,
   "id": "9286be18",
   "metadata": {},
   "outputs": [],
   "source": [
    "df = df_tr.append(df_ts)"
   ]
  },
  {
   "cell_type": "code",
   "execution_count": 8,
   "id": "26061fef",
   "metadata": {},
   "outputs": [
    {
     "data": {
      "text/html": [
       "<div>\n",
       "<style scoped>\n",
       "    .dataframe tbody tr th:only-of-type {\n",
       "        vertical-align: middle;\n",
       "    }\n",
       "\n",
       "    .dataframe tbody tr th {\n",
       "        vertical-align: top;\n",
       "    }\n",
       "\n",
       "    .dataframe thead th {\n",
       "        text-align: right;\n",
       "    }\n",
       "</style>\n",
       "<table border=\"1\" class=\"dataframe\">\n",
       "  <thead>\n",
       "    <tr style=\"text-align: right;\">\n",
       "      <th></th>\n",
       "      <th>text</th>\n",
       "      <th>category</th>\n",
       "    </tr>\n",
       "  </thead>\n",
       "  <tbody>\n",
       "    <tr>\n",
       "      <th>0</th>\n",
       "      <td>its their character not their color that matters</td>\n",
       "      <td>0</td>\n",
       "    </tr>\n",
       "    <tr>\n",
       "      <th>1</th>\n",
       "      <td>don't be afraid to love again everyone is not ...</td>\n",
       "      <td>0</td>\n",
       "    </tr>\n",
       "    <tr>\n",
       "      <th>2</th>\n",
       "      <td>putting bows on your pet</td>\n",
       "      <td>0</td>\n",
       "    </tr>\n",
       "  </tbody>\n",
       "</table>\n",
       "</div>"
      ],
      "text/plain": [
       "                                                text category\n",
       "0   its their character not their color that matters        0\n",
       "1  don't be afraid to love again everyone is not ...        0\n",
       "2                           putting bows on your pet        0"
      ]
     },
     "execution_count": 8,
     "metadata": {},
     "output_type": "execute_result"
    }
   ],
   "source": [
    "df.head(3)"
   ]
  },
  {
   "cell_type": "code",
   "execution_count": 9,
   "id": "ed851d5f",
   "metadata": {},
   "outputs": [
    {
     "data": {
      "text/html": [
       "<div>\n",
       "<style scoped>\n",
       "    .dataframe tbody tr th:only-of-type {\n",
       "        vertical-align: middle;\n",
       "    }\n",
       "\n",
       "    .dataframe tbody tr th {\n",
       "        vertical-align: top;\n",
       "    }\n",
       "\n",
       "    .dataframe thead th {\n",
       "        text-align: right;\n",
       "    }\n",
       "</style>\n",
       "<table border=\"1\" class=\"dataframe\">\n",
       "  <thead>\n",
       "    <tr style=\"text-align: right;\">\n",
       "      <th></th>\n",
       "      <th>text</th>\n",
       "      <th>category</th>\n",
       "    </tr>\n",
       "  </thead>\n",
       "  <tbody>\n",
       "    <tr>\n",
       "      <th>637</th>\n",
       "      <td>rare image of a worker picking cotton</td>\n",
       "      <td>NaN</td>\n",
       "    </tr>\n",
       "    <tr>\n",
       "      <th>638</th>\n",
       "      <td>caught me cat and monkey today! this</td>\n",
       "      <td>NaN</td>\n",
       "    </tr>\n",
       "    <tr>\n",
       "      <th>639</th>\n",
       "      <td>to the black guy reading this meme i am your f...</td>\n",
       "      <td>NaN</td>\n",
       "    </tr>\n",
       "  </tbody>\n",
       "</table>\n",
       "</div>"
      ],
      "text/plain": [
       "                                                  text category\n",
       "637              rare image of a worker picking cotton      NaN\n",
       "638               caught me cat and monkey today! this      NaN\n",
       "639  to the black guy reading this meme i am your f...      NaN"
      ]
     },
     "execution_count": 9,
     "metadata": {},
     "output_type": "execute_result"
    }
   ],
   "source": [
    "df.tail(3)"
   ]
  },
  {
   "cell_type": "markdown",
   "id": "752f498c",
   "metadata": {},
   "source": [
    "df rows with NaN values are our test dataset"
   ]
  },
  {
   "cell_type": "markdown",
   "id": "a3431761",
   "metadata": {},
   "source": [
    "#### Removing punctuations and special characters"
   ]
  },
  {
   "cell_type": "code",
   "execution_count": 10,
   "id": "e8c1a231",
   "metadata": {},
   "outputs": [
    {
     "data": {
      "text/html": [
       "<div>\n",
       "<style scoped>\n",
       "    .dataframe tbody tr th:only-of-type {\n",
       "        vertical-align: middle;\n",
       "    }\n",
       "\n",
       "    .dataframe tbody tr th {\n",
       "        vertical-align: top;\n",
       "    }\n",
       "\n",
       "    .dataframe thead th {\n",
       "        text-align: right;\n",
       "    }\n",
       "</style>\n",
       "<table border=\"1\" class=\"dataframe\">\n",
       "  <thead>\n",
       "    <tr style=\"text-align: right;\">\n",
       "      <th></th>\n",
       "      <th>text</th>\n",
       "      <th>category</th>\n",
       "    </tr>\n",
       "  </thead>\n",
       "  <tbody>\n",
       "    <tr>\n",
       "      <th>0</th>\n",
       "      <td>its their character not their color that matters</td>\n",
       "      <td>0</td>\n",
       "    </tr>\n",
       "    <tr>\n",
       "      <th>1</th>\n",
       "      <td>dont be afraid to love again everyone is not l...</td>\n",
       "      <td>0</td>\n",
       "    </tr>\n",
       "    <tr>\n",
       "      <th>2</th>\n",
       "      <td>putting bows on your pet</td>\n",
       "      <td>0</td>\n",
       "    </tr>\n",
       "    <tr>\n",
       "      <th>3</th>\n",
       "      <td>i love everything and everybody except for squ...</td>\n",
       "      <td>0</td>\n",
       "    </tr>\n",
       "    <tr>\n",
       "      <th>4</th>\n",
       "      <td>everybody loves chocolate chip cookies even hi...</td>\n",
       "      <td>0</td>\n",
       "    </tr>\n",
       "  </tbody>\n",
       "</table>\n",
       "</div>"
      ],
      "text/plain": [
       "                                                text category\n",
       "0   its their character not their color that matters        0\n",
       "1  dont be afraid to love again everyone is not l...        0\n",
       "2                           putting bows on your pet        0\n",
       "3  i love everything and everybody except for squ...        0\n",
       "4  everybody loves chocolate chip cookies even hi...        0"
      ]
     },
     "execution_count": 10,
     "metadata": {},
     "output_type": "execute_result"
    }
   ],
   "source": [
    "df[\"text\"] = df['text'].str.replace('[^\\w\\s]','')\n",
    "df.head()"
   ]
  },
  {
   "cell_type": "markdown",
   "id": "66eae1f8",
   "metadata": {},
   "source": [
    "#### Lowercasing"
   ]
  },
  {
   "cell_type": "code",
   "execution_count": 11,
   "id": "e86df362",
   "metadata": {},
   "outputs": [
    {
     "data": {
      "text/html": [
       "<div>\n",
       "<style scoped>\n",
       "    .dataframe tbody tr th:only-of-type {\n",
       "        vertical-align: middle;\n",
       "    }\n",
       "\n",
       "    .dataframe tbody tr th {\n",
       "        vertical-align: top;\n",
       "    }\n",
       "\n",
       "    .dataframe thead th {\n",
       "        text-align: right;\n",
       "    }\n",
       "</style>\n",
       "<table border=\"1\" class=\"dataframe\">\n",
       "  <thead>\n",
       "    <tr style=\"text-align: right;\">\n",
       "      <th></th>\n",
       "      <th>text</th>\n",
       "      <th>category</th>\n",
       "    </tr>\n",
       "  </thead>\n",
       "  <tbody>\n",
       "    <tr>\n",
       "      <th>0</th>\n",
       "      <td>its their character not their color that matters</td>\n",
       "      <td>0</td>\n",
       "    </tr>\n",
       "    <tr>\n",
       "      <th>1</th>\n",
       "      <td>dont be afraid to love again everyone is not l...</td>\n",
       "      <td>0</td>\n",
       "    </tr>\n",
       "    <tr>\n",
       "      <th>2</th>\n",
       "      <td>putting bows on your pet</td>\n",
       "      <td>0</td>\n",
       "    </tr>\n",
       "    <tr>\n",
       "      <th>3</th>\n",
       "      <td>i love everything and everybody except for squ...</td>\n",
       "      <td>0</td>\n",
       "    </tr>\n",
       "    <tr>\n",
       "      <th>4</th>\n",
       "      <td>everybody loves chocolate chip cookies even hi...</td>\n",
       "      <td>0</td>\n",
       "    </tr>\n",
       "  </tbody>\n",
       "</table>\n",
       "</div>"
      ],
      "text/plain": [
       "                                                text category\n",
       "0   its their character not their color that matters        0\n",
       "1  dont be afraid to love again everyone is not l...        0\n",
       "2                           putting bows on your pet        0\n",
       "3  i love everything and everybody except for squ...        0\n",
       "4  everybody loves chocolate chip cookies even hi...        0"
      ]
     },
     "execution_count": 11,
     "metadata": {},
     "output_type": "execute_result"
    }
   ],
   "source": [
    "df['text']=df['text'].str.lower()\n",
    "df.head()"
   ]
  },
  {
   "cell_type": "markdown",
   "id": "b977e449",
   "metadata": {},
   "source": [
    "#### Removing Stopwords"
   ]
  },
  {
   "cell_type": "code",
   "execution_count": 12,
   "id": "deee460e",
   "metadata": {},
   "outputs": [
    {
     "data": {
      "text/html": [
       "<div>\n",
       "<style scoped>\n",
       "    .dataframe tbody tr th:only-of-type {\n",
       "        vertical-align: middle;\n",
       "    }\n",
       "\n",
       "    .dataframe tbody tr th {\n",
       "        vertical-align: top;\n",
       "    }\n",
       "\n",
       "    .dataframe thead th {\n",
       "        text-align: right;\n",
       "    }\n",
       "</style>\n",
       "<table border=\"1\" class=\"dataframe\">\n",
       "  <thead>\n",
       "    <tr style=\"text-align: right;\">\n",
       "      <th></th>\n",
       "      <th>text</th>\n",
       "      <th>category</th>\n",
       "    </tr>\n",
       "  </thead>\n",
       "  <tbody>\n",
       "    <tr>\n",
       "      <th>0</th>\n",
       "      <td>character color matters</td>\n",
       "      <td>0</td>\n",
       "    </tr>\n",
       "    <tr>\n",
       "      <th>1</th>\n",
       "      <td>dont afraid love everyone like ex</td>\n",
       "      <td>0</td>\n",
       "    </tr>\n",
       "    <tr>\n",
       "      <th>2</th>\n",
       "      <td>putting bows pet</td>\n",
       "      <td>0</td>\n",
       "    </tr>\n",
       "    <tr>\n",
       "      <th>3</th>\n",
       "      <td>love everything everybody except squirrels hat...</td>\n",
       "      <td>0</td>\n",
       "    </tr>\n",
       "    <tr>\n",
       "      <th>4</th>\n",
       "      <td>everybody loves chocolate chip cookies even hi...</td>\n",
       "      <td>0</td>\n",
       "    </tr>\n",
       "  </tbody>\n",
       "</table>\n",
       "</div>"
      ],
      "text/plain": [
       "                                                text category\n",
       "0                            character color matters        0\n",
       "1                  dont afraid love everyone like ex        0\n",
       "2                                   putting bows pet        0\n",
       "3  love everything everybody except squirrels hat...        0\n",
       "4  everybody loves chocolate chip cookies even hi...        0"
      ]
     },
     "execution_count": 12,
     "metadata": {},
     "output_type": "execute_result"
    }
   ],
   "source": [
    "stop_words = stopwords.words('english')\n",
    "df['text'] = df['text'].apply(lambda x: ' '.join([word for word in x.split() if word not in (stop_words)]))\n",
    "\n",
    "df.head()"
   ]
  },
  {
   "cell_type": "markdown",
   "id": "891ef2b9",
   "metadata": {},
   "source": [
    "#### Stemming"
   ]
  },
  {
   "cell_type": "code",
   "execution_count": 13,
   "id": "22d6908c",
   "metadata": {},
   "outputs": [],
   "source": [
    "ps=PorterStemmer()"
   ]
  },
  {
   "cell_type": "code",
   "execution_count": 14,
   "id": "e6fb2fd6",
   "metadata": {},
   "outputs": [],
   "source": [
    "def stem(text):\n",
    "    L=[]\n",
    "    for i in text.split():\n",
    "        L.append(ps.stem(i))\n",
    "        \n",
    "        \n",
    "    string=\" \".join(L)    \n",
    "    return string"
   ]
  },
  {
   "cell_type": "code",
   "execution_count": 15,
   "id": "dd8c75e4",
   "metadata": {},
   "outputs": [],
   "source": [
    "#applying stemming\n",
    "df['text'] = df['text'].apply(stem)"
   ]
  },
  {
   "cell_type": "markdown",
   "id": "53f32727",
   "metadata": {},
   "source": [
    "#### Vectorizing"
   ]
  },
  {
   "cell_type": "code",
   "execution_count": 16,
   "id": "9b487b45",
   "metadata": {},
   "outputs": [],
   "source": [
    "#using CountVectorizer() approach to vectorize\n",
    "coun_vect = CountVectorizer()"
   ]
  },
  {
   "cell_type": "code",
   "execution_count": 17,
   "id": "5389dbd5",
   "metadata": {},
   "outputs": [],
   "source": [
    "vector = coun_vect.fit_transform(df['text'])"
   ]
  },
  {
   "cell_type": "code",
   "execution_count": 18,
   "id": "0f6bc2a5",
   "metadata": {},
   "outputs": [],
   "source": [
    "vector=vector.toarray()"
   ]
  },
  {
   "cell_type": "code",
   "execution_count": 19,
   "id": "f11aca36",
   "metadata": {},
   "outputs": [
    {
     "data": {
      "text/plain": [
       "(9140, 6968)"
      ]
     },
     "execution_count": 19,
     "metadata": {},
     "output_type": "execute_result"
    }
   ],
   "source": [
    "vector.shape"
   ]
  },
  {
   "cell_type": "markdown",
   "id": "e20982fb",
   "metadata": {},
   "source": [
    "#### Train Test Splitting"
   ]
  },
  {
   "cell_type": "code",
   "execution_count": 20,
   "id": "42418a11",
   "metadata": {},
   "outputs": [],
   "source": [
    "X_train=vector[0:8500] # first 8500 rows of our df\n",
    "Y_train=df['category'][0:8500] \n",
    "X_test=vector[8500:]\n"
   ]
  },
  {
   "cell_type": "markdown",
   "id": "c14c4edc",
   "metadata": {},
   "source": [
    "## Logistic regression model"
   ]
  },
  {
   "cell_type": "code",
   "execution_count": 22,
   "id": "381e0fcf",
   "metadata": {},
   "outputs": [],
   "source": [
    "model_lr = LogisticRegression(solver='lbfgs')\n",
    "model_lr.fit(X_train,Y_train)\n",
    "\n",
    "# prediction\n",
    "predictions_lr = model_lr.predict(X_test)"
   ]
  },
  {
   "cell_type": "code",
   "execution_count": 23,
   "id": "921754cb",
   "metadata": {},
   "outputs": [
    {
     "data": {
      "text/plain": [
       "array([0, 0, 0, 0, 0, 1, 0, 0, 0, 0, 0, 0, 0, 1, 0, 1, 0, 0, 0, 0],\n",
       "      dtype=int64)"
      ]
     },
     "execution_count": 23,
     "metadata": {},
     "output_type": "execute_result"
    }
   ],
   "source": [
    "predictions_lr[:20]"
   ]
  },
  {
   "cell_type": "markdown",
   "id": "fcddfd93",
   "metadata": {},
   "source": [
    "______________________"
   ]
  },
  {
   "cell_type": "markdown",
   "id": "e5280706",
   "metadata": {},
   "source": [
    "#### Saving our model as a pickle file"
   ]
  },
  {
   "cell_type": "code",
   "execution_count": 24,
   "id": "366c6354",
   "metadata": {},
   "outputs": [],
   "source": [
    "pickle.dump(model_lr, open('model.pkl','wb'))"
   ]
  }
 ],
 "metadata": {
  "kernelspec": {
   "display_name": "Python 3",
   "language": "python",
   "name": "python3"
  },
  "language_info": {
   "codemirror_mode": {
    "name": "ipython",
    "version": 3
   },
   "file_extension": ".py",
   "mimetype": "text/x-python",
   "name": "python",
   "nbconvert_exporter": "python",
   "pygments_lexer": "ipython3",
   "version": "3.8.8"
  }
 },
 "nbformat": 4,
 "nbformat_minor": 5
}
